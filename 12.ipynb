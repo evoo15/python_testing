{
 "cells": [
  {
   "cell_type": "code",
   "execution_count": 26,
   "metadata": {
    "collapsed": true,
    "pycharm": {
     "is_executing": false
    }
   },
   "outputs": [
    {
     "name": "stdout",
     "text": [
      "Py\non\nn\n"
     ],
     "output_type": "stream"
    }
   ],
   "source": [
    "\n",
    "word= 'Python'\n",
    "\n",
    "# Slicing\n",
    "b= word[:2]\n",
    "c= word[4:]\n",
    "d=word[-1:]\n",
    "print(b)\n",
    "print(c)\n",
    "print(d)"
   ]
  },
  {
   "cell_type": "code",
   "execution_count": 27,
   "outputs": [
    {
     "name": "stdout",
     "text": [
      "1\n[9, 16, 25]\n[1, 4, 9, 16, 25, 36, 49, 64, 81, 100]\n[1, 8, 27, 64, 125]\n"
     ],
     "output_type": "stream"
    }
   ],
   "source": [
    "squares = [1, 4, 9, 16, 25]\n",
    "\n",
    "a=squares[0]\n",
    "print(a)\n",
    "\n",
    "b=squares[-3:]\n",
    "print(b)\n",
    "\n",
    "squares2=squares + [36, 49, 64, 81, 100]\n",
    "print(squares2)\n",
    "\n",
    "# We can change a value in a list unlike in strings\n",
    "cubes = [1, 8, 27, 65, 125]\n",
    "cubes[3]= 4**3\n",
    "print(cubes)\n",
    "\n",
    "# Appending an element to a list\n",
    "cubes.append(6 ** 3) \n"
   ],
   "metadata": {
    "collapsed": false,
    "pycharm": {
     "name": "#%%\n",
     "is_executing": false
    }
   }
  },
  {
   "cell_type": "code",
   "execution_count": 28,
   "outputs": [
    {
     "name": "stdout",
     "text": [
      "['a', 'b', 'C', 'D', 'E', 'f', 'g']\n['a', 'b', 'f', 'g']\n[]\n0\n"
     ],
     "output_type": "stream"
    }
   ],
   "source": [
    "letters = ['a', 'b', 'c', 'd', 'e', 'f', 'g']\n",
    "# changing elements in list from index 2 to 5\n",
    "letters[2:5] = ['C', 'D', 'E']\n",
    "print(letters)\n",
    "\n",
    "# removing elements from 2 to 5\n",
    "# this changes list size\n",
    "letters[2:5] = []\n",
    "print(letters)\n",
    "\n",
    "# clearing the list\n",
    "letters[:] = []\n",
    "print(letters)\n",
    "\n",
    "# length of list\n",
    "print(len(letters))"
   ],
   "metadata": {
    "collapsed": false,
    "pycharm": {
     "name": "#%%\n",
     "is_executing": false
    }
   }
  },
  {
   "cell_type": "code",
   "execution_count": 29,
   "outputs": [
    {
     "name": "stdout",
     "text": [
      "[[1, 2, 3], ['A', 'B', 'C']]\n[1, 2, 3, 'A', 'B', 'C']\n"
     ],
     "output_type": "stream"
    }
   ],
   "source": [
    "# nested lists\n",
    "\n",
    "List1 = [1,2,3]\n",
    "List2 = ['A','B','C']\n",
    "\n",
    "List3=  [List1 , List2]\n",
    "print(List3)\n",
    "\n",
    "#concat list\n",
    "List4= List1 + List2\n",
    "print(List4)"
   ],
   "metadata": {
    "collapsed": false,
    "pycharm": {
     "name": "#%%\n",
     "is_executing": false
    }
   }
  },
  {
   "cell_type": "code",
   "execution_count": 30,
   "outputs": [
    {
     "name": "stdout",
     "text": [
      "0\n1\n1\n2\n3\n5\n8\n13\n21\n34\n55\n89\n"
     ],
     "output_type": "stream"
    }
   ],
   "source": [
    "# Fibonacci series\n",
    "a, b = 0, 1\n",
    "while a <100:\n",
    "    #  end can be used to avoid the newline after the output,\n",
    "   print(a)\n",
    "   a, b = b, a+b"
   ],
   "metadata": {
    "collapsed": false,
    "pycharm": {
     "name": "#%%\n",
     "is_executing": false
    }
   }
  },
  {
   "cell_type": "code",
   "execution_count": 31,
   "outputs": [
    {
     "name": "stdout",
     "text": [
      "positive\n"
     ],
     "output_type": "stream"
    }
   ],
   "source": [
    "x = int(input(\"Please enter an integer: \"))\n",
    "if x < 0:\n",
    "    print('negative')\n",
    "elif x>0:\n",
    "    print('positive')\n",
    "else: print('zero')\n"
   ],
   "metadata": {
    "collapsed": false,
    "pycharm": {
     "name": "#%%\n",
     "is_executing": false
    }
   }
  },
  {
   "cell_type": "code",
   "execution_count": 32,
   "outputs": [
    {
     "name": "stdout",
     "text": [
      "cat 3\nwindow 6\nacceleration 12\n['acceleration', 'cat', 'window', 'acceleration']\n"
     ],
     "output_type": "stream"
    }
   ],
   "source": [
    "# For loops\n",
    "\n",
    "words = ['cat', 'window', 'acceleration']\n",
    "for w in words:\n",
    "    print(w, len(w))\n",
    "\n",
    "\n",
    "# Loop over a slice copy of the entire list. using [:]\n",
    "# when we are modifying the list while iterating\n",
    "# for w in words: will cause an infinite loop\n",
    "for w in words[:] : \n",
    "    if len(w) > 6:\n",
    "        # insert can take index of element to insert\n",
    "         words.insert(0,w)\n",
    "print(words)"
   ],
   "metadata": {
    "collapsed": false,
    "pycharm": {
     "name": "#%%\n",
     "is_executing": false
    }
   }
  },
  {
   "cell_type": "code",
   "execution_count": 33,
   "outputs": [
    {
     "name": "stdout",
     "text": [
      "0\n1\n2\n3\n4\nrange(5, 10)\nrange(0, 10, 3)\nrange(-10, -100, -30)\n0 Mary\n1 had\n2 a\n3 little\n4 lamb\nrange(0, 10)\n[0, 1, 2, 3, 4]\n"
     ],
     "output_type": "stream"
    }
   ],
   "source": [
    "for i in range(5):\n",
    "   print(i)\n",
    "\n",
    "a=range(5, 10)\n",
    "print(a)\n",
    "\n",
    "# 3rd argument is the step\n",
    "b=range(0, 10, 3)\n",
    "print(b)\n",
    "\n",
    "c=range(-10, -100, -30)\n",
    "print(c)\n",
    "\n",
    "a = ['Mary', 'had', 'a', 'little', 'lamb']\n",
    "for i in range(len(a)):\n",
    "  print(i, a[i])\n",
    "\n",
    "# prints range(10) as it is xD\n",
    "print(range(10))\n",
    "\n",
    "# creates a list\n",
    "x= list(range(5))\n",
    "print(x)"
   ],
   "metadata": {
    "collapsed": false,
    "pycharm": {
     "name": "#%%\n",
     "is_executing": false
    }
   }
  },
  {
   "cell_type": "code",
   "execution_count": 34,
   "outputs": [
    {
     "name": "stdout",
     "text": [
      "2 is a prime number\n3 is a prime number\n4 equals 2 x 2\n5 is a prime number\n6 equals 2 x 3\n7 is a prime number\n8 equals 2 x 4\n9 equals 3 x 3\n"
     ],
     "output_type": "stream"
    }
   ],
   "source": [
    "#use of break in a for\n",
    "for n in range(2, 10):\n",
    "   for x in range(2, n):\n",
    "       if n % x == 0:\n",
    "          print(n, 'equals', x, 'x', n//x)\n",
    "          break\n",
    "   else:\n",
    "        # loop fell through without finding a factor\n",
    "       print(n, 'is a prime number')\n"
   ],
   "metadata": {
    "collapsed": false,
    "pycharm": {
     "name": "#%%\n",
     "is_executing": false
    }
   }
  },
  {
   "cell_type": "code",
   "execution_count": 39,
   "outputs": [
    {
     "name": "stdout",
     "text": [
      "Please try again!\n",
      "Please try again!\n",
      "Please try again!\n",
      "Please try again!\n"
     ],
     "output_type": "stream"
    },
    {
     "traceback": [
      "\u001b[1;31m---------------------------------------------------------------------------\u001b[0m",
      "\u001b[1;31mValueError\u001b[0m                                Traceback (most recent call last)",
      "\u001b[1;32m<ipython-input-39-3e3b3ec2ca86>\u001b[0m in \u001b[0;36m<module>\u001b[1;34m\u001b[0m\n\u001b[0;32m     13\u001b[0m         \u001b[0mprint\u001b[0m\u001b[1;33m(\u001b[0m\u001b[0mreminder\u001b[0m\u001b[1;33m)\u001b[0m\u001b[1;33m\u001b[0m\u001b[1;33m\u001b[0m\u001b[0m\n\u001b[0;32m     14\u001b[0m \u001b[1;33m\u001b[0m\u001b[0m\n\u001b[1;32m---> 15\u001b[1;33m \u001b[0mask_ok\u001b[0m\u001b[1;33m(\u001b[0m\u001b[1;34m'confirm plz'\u001b[0m\u001b[1;33m)\u001b[0m\u001b[1;33m\u001b[0m\u001b[1;33m\u001b[0m\u001b[0m\n\u001b[0m",
      "\u001b[1;32m<ipython-input-39-3e3b3ec2ca86>\u001b[0m in \u001b[0;36mask_ok\u001b[1;34m(prompt, retries, reminder)\u001b[0m\n\u001b[0;32m     10\u001b[0m         \u001b[0mretries\u001b[0m \u001b[1;33m=\u001b[0m \u001b[0mretries\u001b[0m \u001b[1;33m-\u001b[0m \u001b[1;36m1\u001b[0m\u001b[1;33m\u001b[0m\u001b[1;33m\u001b[0m\u001b[0m\n\u001b[0;32m     11\u001b[0m         \u001b[1;32mif\u001b[0m \u001b[0mretries\u001b[0m \u001b[1;33m<\u001b[0m \u001b[1;36m0\u001b[0m\u001b[1;33m:\u001b[0m\u001b[1;33m\u001b[0m\u001b[1;33m\u001b[0m\u001b[0m\n\u001b[1;32m---> 12\u001b[1;33m             \u001b[1;32mraise\u001b[0m \u001b[0mValueError\u001b[0m\u001b[1;33m(\u001b[0m\u001b[1;34m'invalid user response'\u001b[0m\u001b[1;33m)\u001b[0m\u001b[1;33m\u001b[0m\u001b[1;33m\u001b[0m\u001b[0m\n\u001b[0m\u001b[0;32m     13\u001b[0m         \u001b[0mprint\u001b[0m\u001b[1;33m(\u001b[0m\u001b[0mreminder\u001b[0m\u001b[1;33m)\u001b[0m\u001b[1;33m\u001b[0m\u001b[1;33m\u001b[0m\u001b[0m\n\u001b[0;32m     14\u001b[0m \u001b[1;33m\u001b[0m\u001b[0m\n",
      "\u001b[1;31mValueError\u001b[0m: invalid user response"
     ],
     "ename": "ValueError",
     "evalue": "invalid user response",
     "output_type": "error"
    }
   ],
   "source": [
    "# defining function with parameters\n",
    "# 2nd and 3rd parameters take default values\n",
    "def ask_ok(prompt, retries=4, reminder='Please try again!'):\n",
    "    while True:\n",
    "        ok = input(prompt)\n",
    "        if ok in ('y', 'ye', 'yes'):\n",
    "            return True\n",
    "        if ok in ('n', 'no', 'nop', 'nope'):\n",
    "            return False\n",
    "        retries = retries - 1\n",
    "        if retries < 0:\n",
    "            raise ValueError('invalid user response')\n",
    "        print(reminder)\n",
    "        \n",
    "ask_ok('confirm plz ?')\n",
    "#\n",
    "# IMPORTANT \n",
    "# L is mutable and will be changed each call\n",
    "def f(a, L=[]):\n",
    "    L.append(a)\n",
    "    return L\n",
    "\n",
    "print(f(1))\n",
    "print(f(2))\n",
    "print(f(3))"
   ],
   "metadata": {
    "collapsed": false,
    "pycharm": {
     "name": "#%%\n",
     "is_executing": false
    }
   }
  },
  {
   "cell_type": "code",
   "execution_count": null,
   "outputs": [],
   "source": [
    "# keyword arguments ???\n",
    "\n"
   ],
   "metadata": {
    "collapsed": false,
    "pycharm": {
     "name": "#%%\n"
    }
   }
  }
 ],
 "metadata": {
  "kernelspec": {
   "display_name": "Python 3",
   "language": "python",
   "name": "python3"
  },
  "language_info": {
   "codemirror_mode": {
    "name": "ipython",
    "version": 2
   },
   "file_extension": ".py",
   "mimetype": "text/x-python",
   "name": "python",
   "nbconvert_exporter": "python",
   "pygments_lexer": "ipython2",
   "version": "2.7.6"
  },
  "pycharm": {
   "stem_cell": {
    "cell_type": "raw",
    "source": [],
    "metadata": {
     "collapsed": false
    }
   }
  }
 },
 "nbformat": 4,
 "nbformat_minor": 0
}