{
 "cells": [
  {
   "cell_type": "code",
   "execution_count": 6,
   "metadata": {
    "collapsed": true,
    "pycharm": {
     "is_executing": false
    }
   },
   "outputs": [
    {
     "name": "stdout",
     "text": [
      "Py\non\non\n"
     ],
     "output_type": "stream"
    }
   ],
   "source": [
    "\n",
    "word= 'Python'\n",
    "\n",
    "# Slicing\n",
    "b= word[:2]\n",
    "c= word[4:]\n",
    "d=word[-1:]\n",
    "print(b)\n",
    "print(c)\n",
    "print(d)"
   ]
  },
  {
   "cell_type": "code",
   "execution_count": 13,
   "outputs": [
    {
     "name": "stdout",
     "text": [
      "1\n[9, 16, 25]\n[1, 4, 9, 16, 25, 36, 49, 64, 81, 100]\n[1, 8, 27, 64, 125]\n"
     ],
     "output_type": "stream"
    }
   ],
   "source": [
    "squares = [1, 4, 9, 16, 25]\n",
    "\n",
    "a=squares[0]\n",
    "print(a)\n",
    "\n",
    "b=squares[-3:]\n",
    "print(b)\n",
    "\n",
    "squares2=squares + [36, 49, 64, 81, 100]\n",
    "print(squares2)\n",
    "\n",
    "# We can change a value in a list unlike in strings\n",
    "cubes = [1, 8, 27, 65, 125]\n",
    "cubes[3]= 4**3\n",
    "print(cubes)\n",
    "\n",
    "# Appending an element to a list\n",
    "cubes.append(6 ** 3) \n"
   ],
   "metadata": {
    "collapsed": false,
    "pycharm": {
     "name": "#%%\n",
     "is_executing": false
    }
   }
  },
  {
   "cell_type": "code",
   "execution_count": 15,
   "outputs": [
    {
     "name": "stdout",
     "text": [
      "['a', 'b', 'C', 'D', 'E', 'f', 'g']\n['a', 'b', 'f', 'g']\n[]\n"
     ],
     "output_type": "stream"
    }
   ],
   "source": [
    "letters = ['a', 'b', 'c', 'd', 'e', 'f', 'g']\n",
    "# changing elements in list from index 2 to 5\n",
    "letters[2:5] = ['C', 'D', 'E']\n",
    "print(letters)\n",
    "\n",
    "# removing elements from 2 to 5\n",
    "# this changes list size\n",
    "letters[2:5] = []\n",
    "print(letters)\n",
    "\n",
    "# clearing the list\n",
    "letters[:] = []\n",
    "print(letters)\n",
    "\n",
    "# length of list\n",
    "print(len(letters))"
   ],
   "metadata": {
    "collapsed": false,
    "pycharm": {
     "name": "#%%\n",
     "is_executing": false
    }
   }
  },
  {
   "cell_type": "code",
   "execution_count": 17,
   "outputs": [
    {
     "name": "stdout",
     "text": [
      "[[1, 2, 3], ['A', 'B', 'C']]\n[1, 2, 3, 'A', 'B', 'C']\n"
     ],
     "output_type": "stream"
    }
   ],
   "source": [
    "# nested lists\n",
    "\n",
    "List1 = [1,2,3]\n",
    "List2 = ['A','B','C']\n",
    "\n",
    "List3=  [List1 , List2]\n",
    "print(List3)\n",
    "\n",
    "#concat list\n",
    "List4= List1 + List2\n",
    "print(List4)"
   ],
   "metadata": {
    "collapsed": false,
    "pycharm": {
     "name": "#%%\n",
     "is_executing": false
    }
   }
  },
  {
   "cell_type": "code",
   "execution_count": 28,
   "outputs": [
    {
     "name": "stdout",
     "text": [
      "0\n1\n1\n2\n3\n5\n8\n13\n21\n34\n55\n89\n"
     ],
     "output_type": "stream"
    }
   ],
   "source": [
    "# Fibonacci series\n",
    "a, b = 0, 1\n",
    "while a <100:\n",
    "    #  end can be used to avoid the newline after the output,\n",
    "   print(a)\n",
    "   a, b = b, a+b\n"
   ],
   "metadata": {
    "collapsed": false,
    "pycharm": {
     "name": "#%%\n",
     "is_executing": false
    }
   }
  }
 ],
 "metadata": {
  "kernelspec": {
   "display_name": "Python 3",
   "language": "python",
   "name": "python3"
  },
  "language_info": {
   "codemirror_mode": {
    "name": "ipython",
    "version": 2
   },
   "file_extension": ".py",
   "mimetype": "text/x-python",
   "name": "python",
   "nbconvert_exporter": "python",
   "pygments_lexer": "ipython2",
   "version": "2.7.6"
  },
  "pycharm": {
   "stem_cell": {
    "cell_type": "raw",
    "source": [],
    "metadata": {
     "collapsed": false
    }
   }
  }
 },
 "nbformat": 4,
 "nbformat_minor": 0
}