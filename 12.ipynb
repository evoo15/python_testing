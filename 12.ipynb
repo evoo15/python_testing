{
 "cells": [
  {
   "cell_type": "code",
   "execution_count": 6,
   "metadata": {
    "collapsed": true,
    "pycharm": {
     "is_executing": false
    }
   },
   "outputs": [
    {
     "name": "stdout",
     "text": [
      "Py\non\non\n"
     ],
     "output_type": "stream"
    }
   ],
   "source": [
    "\n",
    "word= 'Python'\n",
    "\n",
    "# Slicing\n",
    "b= word[:2]\n",
    "c= word[4:]\n",
    "d=word[-1:]\n",
    "print(b)\n",
    "print(c)\n",
    "print(d)"
   ]
  },
  {
   "cell_type": "code",
   "execution_count": 13,
   "outputs": [
    {
     "name": "stdout",
     "text": [
      "1\n[9, 16, 25]\n[1, 4, 9, 16, 25, 36, 49, 64, 81, 100]\n[1, 8, 27, 64, 125]\n"
     ],
     "output_type": "stream"
    }
   ],
   "source": [
    "squares = [1, 4, 9, 16, 25]\n",
    "\n",
    "a=squares[0]\n",
    "print(a)\n",
    "\n",
    "b=squares[-3:]\n",
    "print(b)\n",
    "\n",
    "squares2=squares + [36, 49, 64, 81, 100]\n",
    "print(squares2)\n",
    "\n",
    "# We can change a value in a list unlike in strings\n",
    "cubes = [1, 8, 27, 65, 125]\n",
    "cubes[3]= 4**3\n",
    "print(cubes)\n",
    "\n",
    "# Appending an element to a list\n",
    "cubes.append(6 ** 3) "
   ],
   "metadata": {
    "collapsed": false,
    "pycharm": {
     "name": "#%%\n",
     "is_executing": false
    }
   }
  }
 ],
 "metadata": {
  "kernelspec": {
   "display_name": "Python 3",
   "language": "python",
   "name": "python3"
  },
  "language_info": {
   "codemirror_mode": {
    "name": "ipython",
    "version": 2
   },
   "file_extension": ".py",
   "mimetype": "text/x-python",
   "name": "python",
   "nbconvert_exporter": "python",
   "pygments_lexer": "ipython2",
   "version": "2.7.6"
  },
  "pycharm": {
   "stem_cell": {
    "cell_type": "raw",
    "source": [],
    "metadata": {
     "collapsed": false
    }
   }
  }
 },
 "nbformat": 4,
 "nbformat_minor": 0
}